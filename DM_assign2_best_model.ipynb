{
 "cells": [
  {
   "cell_type": "code",
   "execution_count": 1,
   "id": "a8741796",
   "metadata": {},
   "outputs": [
    {
     "name": "stderr",
     "output_type": "stream",
     "text": [
      "C:\\Users\\User\\anaconda3\\lib\\site-packages\\pandas\\core\\frame.py:5238: SettingWithCopyWarning: \n",
      "A value is trying to be set on a copy of a slice from a DataFrame\n",
      "\n",
      "See the caveats in the documentation: https://pandas.pydata.org/pandas-docs/stable/user_guide/indexing.html#returning-a-view-versus-a-copy\n",
      "  return super().replace(\n",
      "C:\\Users\\User\\anaconda3\\lib\\site-packages\\pandas\\core\\generic.py:6392: SettingWithCopyWarning: \n",
      "A value is trying to be set on a copy of a slice from a DataFrame\n",
      "\n",
      "See the caveats in the documentation: https://pandas.pydata.org/pandas-docs/stable/user_guide/indexing.html#returning-a-view-versus-a-copy\n",
      "  return self._update_inplace(result)\n",
      "C:\\Users\\User\\anaconda3\\lib\\site-packages\\pandas\\core\\frame.py:5176: SettingWithCopyWarning: \n",
      "A value is trying to be set on a copy of a slice from a DataFrame\n",
      "\n",
      "See the caveats in the documentation: https://pandas.pydata.org/pandas-docs/stable/user_guide/indexing.html#returning-a-view-versus-a-copy\n",
      "  return super().fillna(\n"
     ]
    },
    {
     "data": {
      "text/plain": [
       "GridSearchCV(estimator=Pipeline(steps=[('P', preprocessing()),\n",
       "                                       ('scaler', MinMaxScaler()),\n",
       "                                       ('rfe',\n",
       "                                        RFE(estimator=SVR(kernel='linear'))),\n",
       "                                       ('gbc', GradientBoostingClassifier())]),\n",
       "             n_jobs=10,\n",
       "             param_grid={'gbc__loss': ['exponential'],\n",
       "                         'gbc__n_estimators': [400],\n",
       "                         'rfe__n_features_to_select': [100, 200, 300]})"
      ]
     },
     "execution_count": 1,
     "metadata": {},
     "output_type": "execute_result"
    }
   ],
   "source": [
    "from sklearn.ensemble import GradientBoostingClassifier\n",
    "#from sklearn.decomposition import PCA\n",
    "from sklearn.model_selection import GridSearchCV\n",
    "from sklearn.pipeline import Pipeline\n",
    "from sklearn.feature_selection import RFE\n",
    "from sklearn.svm import SVR\n",
    "from sklearn.base import TransformerMixin,BaseEstimator\n",
    "from sklearn.preprocessing import MinMaxScaler\n",
    "from sklearn.model_selection import train_test_split\n",
    "import pandas as pd\n",
    "import numpy as np\n",
    "\n",
    "class preprocessing(BaseEstimator,TransformerMixin):\n",
    "    def __init__(self):\n",
    "        pass\n",
    "     \n",
    "    def fit(self,X,y):\n",
    "#         b = list(X.isnull().any())\n",
    "#         indices = [i for i, x in enumerate(b) if x == True]\n",
    "#         mean_col = X.mean()\n",
    "        return self\n",
    "    \n",
    "    def transform(self,X):\n",
    "        X.replace([np.inf, -np.inf], np.nan, inplace=True)\n",
    "        X.fillna(X.mean(), inplace=True)\n",
    "        X.fillna(0, inplace=True)\n",
    "        return X\n",
    "\n",
    "P = preprocessing()\n",
    "scaler = MinMaxScaler()\n",
    "estimator = SVR(kernel=\"linear\")\n",
    "rfe = RFE(estimator)\n",
    "#pca = PCA()\n",
    "gbc = GradientBoostingClassifier()\n",
    "\n",
    "\n",
    "\n",
    "df = pd.read_csv(\"https://github.com/andvise/DataAnalyticsDatasets/blob/6d5738101d173b97c565f143f945dedb9c42a400/dm_assignment2/sat_dataset_train.csv?raw=true\")\n",
    "df.head()\n",
    "\n",
    "\n",
    "\n",
    "#define features and target\n",
    "y = df['target']\n",
    "X = df.drop(columns = ['target'])\n",
    "n = len(y)\n",
    "y = np.reshape(y,(n,))\n",
    "# P.fit(X,y)\n",
    "# Xt = P.transform(X)\n",
    "\n",
    "X_train, X_test, y_train, y_test = train_test_split(X, y, test_size = 0.3, random_state=42)\n",
    "\n",
    "params_grid = {\n",
    "    #\"pca__n_components\": [100 ,200,300,400],\n",
    "     'rfe__n_features_to_select': [100,200,300],\n",
    "    'gbc__loss':['exponential'],\n",
    "    'gbc__n_estimators':[400],\n",
    "    \n",
    "   \n",
    "}\n",
    "pipe_final = Pipeline(steps=[(\"P\",P),(\"scaler\",scaler), (\"rfe\", rfe), (\"gbc\", gbc)])\n",
    "cvs = GridSearchCV(pipe_final, params_grid, n_jobs=10)\n",
    "cvs.fit(X_train, y_train)"
    "pickle.dump(cvs,  open( "model.pkl", "wb" ))"
   ]
  }
 ],
 "metadata": {
  "kernelspec": {
   "display_name": "Python 3 (ipykernel)",
   "language": "python",
   "name": "python3"
  },
  "language_info": {
   "codemirror_mode": {
    "name": "ipython",
    "version": 3
   },
   "file_extension": ".py",
   "mimetype": "text/x-python",
   "name": "python",
   "nbconvert_exporter": "python",
   "pygments_lexer": "ipython3",
   "version": "3.9.7"
  }
 },
 "nbformat": 4,
 "nbformat_minor": 5
}
